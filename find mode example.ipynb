{
 "cells": [
  {
   "cell_type": "code",
   "execution_count": 1,
   "metadata": {},
   "outputs": [],
   "source": [
    "from collections import Counter\n",
    "\n",
    "from scipy.spatial.distance import cosine\n",
    "import numpy as np"
   ]
  },
  {
   "cell_type": "code",
   "execution_count": 2,
   "metadata": {},
   "outputs": [
    {
     "name": "stdout",
     "output_type": "stream",
     "text": [
      "0  : argmin: 0   : freq: 20 \n"
     ]
    }
   ],
   "source": [
    "argmins = Counter()\n",
    "\n",
    "for iteration in range(20):    \n",
    "    # Generate random vectors per class\n",
    "    class_vectors = (np.random.random((20001, 100))-0.5)*2\n",
    "    \n",
    "    # Generate a sample from the distribution\n",
    "    sample = np.minimum(np.random.zipf(1.7, 2001), 20000)\n",
    "    \n",
    "    # Generate noise \n",
    "    noise = np.random.normal(0, 0.01, (len(sample), 100))\n",
    "    \n",
    "    # Combine noise and data\n",
    "    X_data = class_vectors[sample]\n",
    "    X = X_data+noise\n",
    "\n",
    "    # Count non-noisy class vectors\n",
    "    freq = Counter()\n",
    "    for row in np.array(X_data):\n",
    "        freq[tuple(row)] += 1\n",
    "    \n",
    "    # Calculate mean vector for data\n",
    "    mean_vector = X.mean(axis=0)\n",
    "    \n",
    "    # Find cosine distance between rank sorted class_vectors and the mean vector\n",
    "    distances = [cosine(np.array(k), mean_vector) for k, v in freq.most_common()]\n",
    "    \n",
    "    # Take out the index of the minimum distance\n",
    "    # If the index is 0 that indicates that the closest pairs of vectors\n",
    "    # was the mean vector and the most common vector\n",
    "    argmins[np.argmin(np.array(distances))] += 1\n",
    "        \n",
    "# Print out the results\n",
    "for l, (k, v) in enumerate(argmins.most_common()):\n",
    "    print(str(l).ljust(2), ': argmin:', str(k).ljust(3), ': freq:', str(v).ljust(3))"
   ]
  },
  {
   "cell_type": "code",
   "execution_count": null,
   "metadata": {},
   "outputs": [],
   "source": []
  }
 ],
 "metadata": {
  "kernelspec": {
   "display_name": "Python 3",
   "language": "python",
   "name": "python3"
  },
  "language_info": {
   "codemirror_mode": {
    "name": "ipython",
    "version": 3
   },
   "file_extension": ".py",
   "mimetype": "text/x-python",
   "name": "python",
   "nbconvert_exporter": "python",
   "pygments_lexer": "ipython3",
   "version": "3.6.3"
  }
 },
 "nbformat": 4,
 "nbformat_minor": 2
}
