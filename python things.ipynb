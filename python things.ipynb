{
 "metadata": {
  "name": "",
  "signature": "sha256:93ffc9f86ccd888115645a649cec3f776dfce500f9af78bb59db3c3ceaf94d8b"
 },
 "nbformat": 3,
 "nbformat_minor": 0,
 "worksheets": [
  {
   "cells": [
    {
     "cell_type": "heading",
     "level": 2,
     "metadata": {},
     "source": [
      "UNPACKING VARIABLES MAKES CODE MORE READABLE"
     ]
    },
    {
     "cell_type": "code",
     "collapsed": false,
     "input": [
      "a = [(1, 'a'), (2, 'b'), (3, 'c')]\n",
      "\n",
      "print \"without unpacking\"\n",
      "for item in a:\n",
      "    print item[0]\n",
      "    print item[1]\n",
      "    \n",
      "print \"\\nwith unpacking\"\n",
      "for number, char in a:\n",
      "    print number\n",
      "    print char"
     ],
     "language": "python",
     "metadata": {},
     "outputs": [
      {
       "output_type": "stream",
       "stream": "stdout",
       "text": [
        "without unpacking\n",
        "1\n",
        "a\n",
        "2\n",
        "b\n",
        "3\n",
        "c\n",
        "\n",
        "with unpacking\n",
        "1\n",
        "a\n",
        "2\n",
        "b\n",
        "3\n",
        "c\n"
       ]
      }
     ],
     "prompt_number": 2
    },
    {
     "cell_type": "heading",
     "level": 2,
     "metadata": {},
     "source": [
      "DON'T USE A COUNTER VARIABLE WHEN YOU CAN USE ENUMERATE"
     ]
    },
    {
     "cell_type": "code",
     "collapsed": false,
     "input": [
      "a = ['a', 'b', 'c', 'd']\n",
      "\n",
      "print \"bad way\"\n",
      "i = 0\n",
      "for item in a:\n",
      "    print i, item\n",
      "    i += 1\n",
      "    \n",
      "print \"\\ngood way\"\n",
      "for i, item in enumerate(a):\n",
      "    print i, item"
     ],
     "language": "python",
     "metadata": {},
     "outputs": [
      {
       "output_type": "stream",
       "stream": "stdout",
       "text": [
        "bad way\n",
        "0 a\n",
        "1 b\n",
        "2 c\n",
        "3 d\n",
        "\n",
        "good way\n",
        "0 a\n",
        "1 b\n",
        "2 c\n",
        "3 d\n"
       ]
      }
     ],
     "prompt_number": 27
    },
    {
     "cell_type": "heading",
     "level": 2,
     "metadata": {},
     "source": [
      "ZIP COMBINES TWO ITERABLES (LISTS, SETS, DICTS, ETC ARE ITERABLES)"
     ]
    },
    {
     "cell_type": "code",
     "collapsed": false,
     "input": [
      "a = [1, 2, 3]\n",
      "b = ['a', 'b', 'c']\n",
      "\n",
      "for item1, item2 in zip(a, b):\n",
      "    print item1, item2"
     ],
     "language": "python",
     "metadata": {},
     "outputs": [
      {
       "output_type": "stream",
       "stream": "stdout",
       "text": [
        "1 a\n",
        "2 b\n",
        "3 c\n"
       ]
      }
     ],
     "prompt_number": 19
    },
    {
     "cell_type": "heading",
     "level": 2,
     "metadata": {},
     "source": [
      "MAP IS AWESOME, YOU SIMPLY MAP A FUNCTION ONTO EVERY ELEMENT OF AN ITERABLE"
     ]
    },
    {
     "cell_type": "code",
     "collapsed": false,
     "input": [
      "a = ['a', 'b', 'c', 'd']\n",
      "\n",
      "def add_korv(item):\n",
      "    return item + '+korv'\n",
      "\n",
      "print map(add_korv, a)"
     ],
     "language": "python",
     "metadata": {},
     "outputs": [
      {
       "output_type": "stream",
       "stream": "stdout",
       "text": [
        "['a+korv', 'b+korv', 'c+korv', 'd+korv']\n"
       ]
      }
     ],
     "prompt_number": 5
    },
    {
     "cell_type": "heading",
     "level": 2,
     "metadata": {},
     "source": [
      "YOU CAN ALSO USE LAMBDA FUNCTIONS WITH MAP"
     ]
    },
    {
     "cell_type": "code",
     "collapsed": false,
     "input": [
      "add_korv_lambda = lambda item: item + '+korv'\n",
      "\n",
      "print \"\\nsame thing with lambda function predefined\"\n",
      "print map(add_korv_lambda, a)\n",
      "\n",
      "# YOU CAN EVEN DEFINE THE LAMBDA FUNCTION INSIDE THE MAP EXPRESSION\n",
      "\n",
      "print \"\\nsame thing with lambda function directly in map\"\n",
      "print map(lambda item: item + '+korv', a)"
     ],
     "language": "python",
     "metadata": {},
     "outputs": [
      {
       "output_type": "stream",
       "stream": "stdout",
       "text": [
        "\n",
        "same thing with lambda function predefined\n",
        "['a+korv', 'b+korv', 'c+korv', 'd+korv']\n",
        "\n",
        "same thing with lambda function directly in map\n",
        "['a+korv', 'b+korv', 'c+korv', 'd+korv']\n"
       ]
      }
     ],
     "prompt_number": 6
    },
    {
     "cell_type": "heading",
     "level": 2,
     "metadata": {},
     "source": [
      "FILTER LET'S YOU FILTER OUT THINGS FROM AN ITERABLE"
     ]
    },
    {
     "cell_type": "code",
     "collapsed": false,
     "input": [
      "a = [0, 1, 2, 3, 4, 5, 6, 7, 8, 9]\n",
      "\n",
      "even = lambda item: item % 2 == 0\n",
      "\n",
      "print 'filter out uneven numbers'\n",
      "print filter(even, a)\n",
      "\n",
      "# OR CHECK IF STRING BEGINS WITH 'A'\n",
      "\n",
      "a = ['aa', 'ab', 'ba', 'ac', 'ca']\n",
      "\n",
      "print '\\nstrings that begins with \"a\"'\n",
      "print filter(lambda item: item[0] == 'a', a)"
     ],
     "language": "python",
     "metadata": {},
     "outputs": [
      {
       "output_type": "stream",
       "stream": "stdout",
       "text": [
        "filter out uneven numbers\n",
        "[0, 2, 4, 6, 8]\n",
        "\n",
        "strings that begins with \"a\"\n",
        "['aa', 'ab', 'ac']\n"
       ]
      }
     ],
     "prompt_number": 11
    },
    {
     "cell_type": "heading",
     "level": 2,
     "metadata": {},
     "source": [
      "SOME LIST COMPREHENSION"
     ]
    },
    {
     "cell_type": "code",
     "collapsed": false,
     "input": [
      "a = ['a', 'b', 'c', 'd']\n",
      "\n",
      "new_list = [x + '+korv' for x in a]\n",
      "\n",
      "print type(new_list)\n",
      "print new_list\n",
      "\n",
      "new_list = [x == 'a' for x in a]\n",
      "print '\\nanother example of list comprehension'\n",
      "print type(new_list)\n",
      "print new_list"
     ],
     "language": "python",
     "metadata": {},
     "outputs": [
      {
       "output_type": "stream",
       "stream": "stdout",
       "text": [
        "<type 'list'>\n",
        "['a+korv', 'b+korv', 'c+korv', 'd+korv']\n",
        "\n",
        "another example of list comprehension\n",
        "<type 'list'>\n",
        "[True, False, False, False]\n"
       ]
      }
     ],
     "prompt_number": 19
    },
    {
     "cell_type": "heading",
     "level": 2,
     "metadata": {},
     "source": [
      "AND FINALLY A CONTRIVED EXAMPLE COMBINING STUFF"
     ]
    },
    {
     "cell_type": "code",
     "collapsed": false,
     "input": [
      "# This expression takes out the items with an even index and multiplies that item by the index number\n",
      "\n",
      "a = ['a', 'b', 'c', 'd', 'e', 'f', 'g', 'h', 'i', 'j', 'k', 'l']\n",
      "\n",
      "print map(lambda (i, item): i*item, filter(lambda (i, item): i % 2 == 1, enumerate(a)))"
     ],
     "language": "python",
     "metadata": {},
     "outputs": [
      {
       "output_type": "stream",
       "stream": "stdout",
       "text": [
        "['b', 'ddd', 'fffff', 'hhhhhhh', 'jjjjjjjjj', 'lllllllllll']\n"
       ]
      }
     ],
     "prompt_number": 32
    }
   ],
   "metadata": {}
  }
 ]
}